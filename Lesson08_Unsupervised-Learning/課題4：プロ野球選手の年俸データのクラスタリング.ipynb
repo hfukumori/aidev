{
  "cells": [
    {
      "cell_type": "markdown",
      "metadata": {
        "id": "2kEtx2Y4Ywzg"
      },
      "source": [
        "# 課題4: プロ野球選手の年俸データのクラスタリング\n",
        "\n",
        "ここでは、k-means法を利用したクラスタリングの理解を深めて頂くための課題を用意しました。Lesson6で使用したプロ野球選手の推定年俸のデータを使い、クラスタリングを行ってください。なお、クラスタリングはデータを正規化したうえで行ないます。\n",
        "\n",
        "わからない場合は、ここまでのレッスン内容や各種ライブラリの公式ドキュメントを参照しましょう。"
      ]
    },
    {
      "cell_type": "markdown",
      "metadata": {
        "id": "7wZdJ7yCZr8g"
      },
      "source": [
        "## 1. ライブラリのimport"
      ]
    },
    {
      "cell_type": "code",
      "execution_count": 1,
      "metadata": {
        "id": "juK8xWLIYtZ7"
      },
      "outputs": [],
      "source": [
        "# （変更しないでください）\n",
        "\n",
        "# 必要なライブラリのimport\n",
        "import numpy as np\n",
        "import matplotlib.pyplot as plt\n",
        "import seaborn as sns\n",
        "import pandas as pd\n",
        "\n",
        "# データの正規化\n",
        "from sklearn.preprocessing import MinMaxScaler\n",
        "\n",
        "# k-means法\n",
        "from sklearn.cluster import KMeans\n",
        "\n",
        "# シルエットプロット\n",
        "from sklearn.metrics import silhouette_score, silhouette_samples\n",
        "\n",
        "# DataFrameですべての列を表示する設定\n",
        "pd.options.display.max_columns = None\n",
        "\n",
        "# seabornによる装飾を適用する\n",
        "sns.set_theme()"
      ]
    },
    {
      "cell_type": "markdown",
      "metadata": {
        "id": "9B48ZIWxaC_Q"
      },
      "source": [
        "## 2. データの読み込み\n",
        "\n",
        "CSVファイル *baseball_salary.csv* を読み込み、dataset_baseに格納します。"
      ]
    },
    {
      "cell_type": "code",
      "execution_count": 3,
      "metadata": {
        "id": "qIsF8nupYy_d"
      },
      "outputs": [],
      "source": [
        "# CSVファイルを読み込んでdataset_baseに格納する\n",
        "dataset_base = pd.read_csv('baseball_salary.csv')"
      ]
    },
    {
      "cell_type": "code",
      "execution_count": 4,
      "metadata": {
        "id": "p_sj8SkMalI9"
      },
      "outputs": [
        {
          "data": {
            "text/html": [
              "<div>\n",
              "<style scoped>\n",
              "    .dataframe tbody tr th:only-of-type {\n",
              "        vertical-align: middle;\n",
              "    }\n",
              "\n",
              "    .dataframe tbody tr th {\n",
              "        vertical-align: top;\n",
              "    }\n",
              "\n",
              "    .dataframe thead th {\n",
              "        text-align: right;\n",
              "    }\n",
              "</style>\n",
              "<table border=\"1\" class=\"dataframe\">\n",
              "  <thead>\n",
              "    <tr style=\"text-align: right;\">\n",
              "      <th></th>\n",
              "      <th>球団</th>\n",
              "      <th>推定年俸</th>\n",
              "      <th>守備</th>\n",
              "      <th>年数</th>\n",
              "      <th>年齢</th>\n",
              "      <th>身長</th>\n",
              "      <th>体重</th>\n",
              "      <th>血液型</th>\n",
              "      <th>投打</th>\n",
              "      <th>年</th>\n",
              "      <th>打率</th>\n",
              "      <th>試合</th>\n",
              "      <th>打席数</th>\n",
              "      <th>打数</th>\n",
              "      <th>安打</th>\n",
              "      <th>本塁打</th>\n",
              "      <th>打点</th>\n",
              "      <th>盗塁</th>\n",
              "      <th>四球</th>\n",
              "      <th>死球</th>\n",
              "      <th>三振</th>\n",
              "      <th>犠打</th>\n",
              "      <th>併殺打</th>\n",
              "      <th>出塁率</th>\n",
              "      <th>長打率</th>\n",
              "      <th>OPS</th>\n",
              "      <th>RC27</th>\n",
              "      <th>XR27</th>\n",
              "      <th>球団勝率</th>\n",
              "      <th>プレーオフ</th>\n",
              "      <th>球団平均得点</th>\n",
              "      <th>球団打率</th>\n",
              "    </tr>\n",
              "  </thead>\n",
              "  <tbody>\n",
              "    <tr>\n",
              "      <th>0</th>\n",
              "      <td>c</td>\n",
              "      <td>21000</td>\n",
              "      <td>外野手</td>\n",
              "      <td>11</td>\n",
              "      <td>29</td>\n",
              "      <td>177</td>\n",
              "      <td>90</td>\n",
              "      <td>AB型</td>\n",
              "      <td>右左</td>\n",
              "      <td>2017</td>\n",
              "      <td>0.308</td>\n",
              "      <td>143</td>\n",
              "      <td>651</td>\n",
              "      <td>556</td>\n",
              "      <td>171</td>\n",
              "      <td>23</td>\n",
              "      <td>92</td>\n",
              "      <td>13</td>\n",
              "      <td>83</td>\n",
              "      <td>4</td>\n",
              "      <td>113</td>\n",
              "      <td>2</td>\n",
              "      <td>6</td>\n",
              "      <td>0.398</td>\n",
              "      <td>0.505</td>\n",
              "      <td>0.903</td>\n",
              "      <td>7.70</td>\n",
              "      <td>7.52</td>\n",
              "      <td>0.633</td>\n",
              "      <td>2</td>\n",
              "      <td>5.15</td>\n",
              "      <td>0.273</td>\n",
              "    </tr>\n",
              "    <tr>\n",
              "      <th>1</th>\n",
              "      <td>c</td>\n",
              "      <td>19000</td>\n",
              "      <td>内野手</td>\n",
              "      <td>7</td>\n",
              "      <td>28</td>\n",
              "      <td>171</td>\n",
              "      <td>72</td>\n",
              "      <td>A型</td>\n",
              "      <td>右右</td>\n",
              "      <td>2017</td>\n",
              "      <td>0.271</td>\n",
              "      <td>138</td>\n",
              "      <td>629</td>\n",
              "      <td>565</td>\n",
              "      <td>153</td>\n",
              "      <td>14</td>\n",
              "      <td>56</td>\n",
              "      <td>8</td>\n",
              "      <td>32</td>\n",
              "      <td>1</td>\n",
              "      <td>107</td>\n",
              "      <td>30</td>\n",
              "      <td>9</td>\n",
              "      <td>0.311</td>\n",
              "      <td>0.405</td>\n",
              "      <td>0.716</td>\n",
              "      <td>4.10</td>\n",
              "      <td>4.01</td>\n",
              "      <td>0.633</td>\n",
              "      <td>2</td>\n",
              "      <td>5.15</td>\n",
              "      <td>0.273</td>\n",
              "    </tr>\n",
              "    <tr>\n",
              "      <th>2</th>\n",
              "      <td>c</td>\n",
              "      <td>14000</td>\n",
              "      <td>内野手</td>\n",
              "      <td>5</td>\n",
              "      <td>29</td>\n",
              "      <td>171</td>\n",
              "      <td>85</td>\n",
              "      <td>A型</td>\n",
              "      <td>右左</td>\n",
              "      <td>2017</td>\n",
              "      <td>0.290</td>\n",
              "      <td>143</td>\n",
              "      <td>679</td>\n",
              "      <td>565</td>\n",
              "      <td>164</td>\n",
              "      <td>8</td>\n",
              "      <td>60</td>\n",
              "      <td>35</td>\n",
              "      <td>89</td>\n",
              "      <td>15</td>\n",
              "      <td>120</td>\n",
              "      <td>6</td>\n",
              "      <td>5</td>\n",
              "      <td>0.398</td>\n",
              "      <td>0.407</td>\n",
              "      <td>0.805</td>\n",
              "      <td>6.41</td>\n",
              "      <td>6.26</td>\n",
              "      <td>0.633</td>\n",
              "      <td>2</td>\n",
              "      <td>5.15</td>\n",
              "      <td>0.273</td>\n",
              "    </tr>\n",
              "    <tr>\n",
              "      <th>3</th>\n",
              "      <td>c</td>\n",
              "      <td>11500</td>\n",
              "      <td>内野手</td>\n",
              "      <td>7</td>\n",
              "      <td>38</td>\n",
              "      <td>196</td>\n",
              "      <td>126</td>\n",
              "      <td>不明</td>\n",
              "      <td>右右</td>\n",
              "      <td>2017</td>\n",
              "      <td>0.265</td>\n",
              "      <td>116</td>\n",
              "      <td>405</td>\n",
              "      <td>344</td>\n",
              "      <td>91</td>\n",
              "      <td>27</td>\n",
              "      <td>78</td>\n",
              "      <td>0</td>\n",
              "      <td>50</td>\n",
              "      <td>8</td>\n",
              "      <td>111</td>\n",
              "      <td>0</td>\n",
              "      <td>8</td>\n",
              "      <td>0.368</td>\n",
              "      <td>0.532</td>\n",
              "      <td>0.900</td>\n",
              "      <td>6.80</td>\n",
              "      <td>6.90</td>\n",
              "      <td>0.633</td>\n",
              "      <td>2</td>\n",
              "      <td>5.15</td>\n",
              "      <td>0.273</td>\n",
              "    </tr>\n",
              "    <tr>\n",
              "      <th>4</th>\n",
              "      <td>c</td>\n",
              "      <td>11000</td>\n",
              "      <td>内野手</td>\n",
              "      <td>20</td>\n",
              "      <td>41</td>\n",
              "      <td>189</td>\n",
              "      <td>102</td>\n",
              "      <td>B型</td>\n",
              "      <td>右右</td>\n",
              "      <td>2017</td>\n",
              "      <td>0.292</td>\n",
              "      <td>100</td>\n",
              "      <td>288</td>\n",
              "      <td>243</td>\n",
              "      <td>71</td>\n",
              "      <td>9</td>\n",
              "      <td>48</td>\n",
              "      <td>2</td>\n",
              "      <td>40</td>\n",
              "      <td>1</td>\n",
              "      <td>56</td>\n",
              "      <td>0</td>\n",
              "      <td>7</td>\n",
              "      <td>0.389</td>\n",
              "      <td>0.461</td>\n",
              "      <td>0.850</td>\n",
              "      <td>6.55</td>\n",
              "      <td>6.54</td>\n",
              "      <td>0.633</td>\n",
              "      <td>2</td>\n",
              "      <td>5.15</td>\n",
              "      <td>0.273</td>\n",
              "    </tr>\n",
              "  </tbody>\n",
              "</table>\n",
              "</div>"
            ],
            "text/plain": [
              "  球団   推定年俸   守備  年数  年齢   身長   体重  血液型  投打     年     打率   試合  打席数   打数   安打  \\\n",
              "0  c  21000  外野手  11  29  177   90  AB型  右左  2017  0.308  143  651  556  171   \n",
              "1  c  19000  内野手   7  28  171   72   A型  右右  2017  0.271  138  629  565  153   \n",
              "2  c  14000  内野手   5  29  171   85   A型  右左  2017  0.290  143  679  565  164   \n",
              "3  c  11500  内野手   7  38  196  126   不明  右右  2017  0.265  116  405  344   91   \n",
              "4  c  11000  内野手  20  41  189  102   B型  右右  2017  0.292  100  288  243   71   \n",
              "\n",
              "   本塁打  打点  盗塁  四球  死球   三振  犠打  併殺打    出塁率    長打率    OPS  RC27  XR27   球団勝率  \\\n",
              "0   23  92  13  83   4  113   2    6  0.398  0.505  0.903  7.70  7.52  0.633   \n",
              "1   14  56   8  32   1  107  30    9  0.311  0.405  0.716  4.10  4.01  0.633   \n",
              "2    8  60  35  89  15  120   6    5  0.398  0.407  0.805  6.41  6.26  0.633   \n",
              "3   27  78   0  50   8  111   0    8  0.368  0.532  0.900  6.80  6.90  0.633   \n",
              "4    9  48   2  40   1   56   0    7  0.389  0.461  0.850  6.55  6.54  0.633   \n",
              "\n",
              "   プレーオフ  球団平均得点   球団打率  \n",
              "0      2    5.15  0.273  \n",
              "1      2    5.15  0.273  \n",
              "2      2    5.15  0.273  \n",
              "3      2    5.15  0.273  \n",
              "4      2    5.15  0.273  "
            ]
          },
          "execution_count": 4,
          "metadata": {},
          "output_type": "execute_result"
        }
      ],
      "source": [
        "# dataset_baseの最初の5行を表示\n",
        "dataset_base.head()"
      ]
    },
    {
      "cell_type": "code",
      "execution_count": 5,
      "metadata": {
        "id": "nQ32Ubeqalba"
      },
      "outputs": [
        {
          "data": {
            "text/html": [
              "<div>\n",
              "<style scoped>\n",
              "    .dataframe tbody tr th:only-of-type {\n",
              "        vertical-align: middle;\n",
              "    }\n",
              "\n",
              "    .dataframe tbody tr th {\n",
              "        vertical-align: top;\n",
              "    }\n",
              "\n",
              "    .dataframe thead th {\n",
              "        text-align: right;\n",
              "    }\n",
              "</style>\n",
              "<table border=\"1\" class=\"dataframe\">\n",
              "  <thead>\n",
              "    <tr style=\"text-align: right;\">\n",
              "      <th></th>\n",
              "      <th>batting</th>\n",
              "      <th>points</th>\n",
              "    </tr>\n",
              "  </thead>\n",
              "  <tbody>\n",
              "    <tr>\n",
              "      <th>0</th>\n",
              "      <td>0.308</td>\n",
              "      <td>92</td>\n",
              "    </tr>\n",
              "    <tr>\n",
              "      <th>1</th>\n",
              "      <td>0.271</td>\n",
              "      <td>56</td>\n",
              "    </tr>\n",
              "    <tr>\n",
              "      <th>2</th>\n",
              "      <td>0.290</td>\n",
              "      <td>60</td>\n",
              "    </tr>\n",
              "    <tr>\n",
              "      <th>3</th>\n",
              "      <td>0.265</td>\n",
              "      <td>78</td>\n",
              "    </tr>\n",
              "    <tr>\n",
              "      <th>4</th>\n",
              "      <td>0.292</td>\n",
              "      <td>48</td>\n",
              "    </tr>\n",
              "  </tbody>\n",
              "</table>\n",
              "</div>"
            ],
            "text/plain": [
              "   batting  points\n",
              "0    0.308      92\n",
              "1    0.271      56\n",
              "2    0.290      60\n",
              "3    0.265      78\n",
              "4    0.292      48"
            ]
          },
          "execution_count": 5,
          "metadata": {},
          "output_type": "execute_result"
        }
      ],
      "source": [
        "# dataset_baseから「打率、打点」列を抜き出してdatasetに格納する\n",
        "dataset = dataset_base[['打率', '打点']]\n",
        "\n",
        "# 列名を、打率は「batting」、打点は「points」にリネームする\n",
        "dataset = dataset.rename(columns={'打率': 'batting', '打点': 'points'})\n",
        "\n",
        "# datasetの先頭の5行を表示\n",
        "dataset.head()\n"
      ]
    },
    {
      "cell_type": "markdown",
      "metadata": {
        "id": "XFLVPV-GavN_"
      },
      "source": [
        "## 3. データの正規化\n",
        "\n",
        "クラスタリングは類似度（距離）に基づいて行なわれるため、データの範囲に差がある場合は正規化を行ないます。\n",
        "\n",
        "ここでは、Lesson5のデータの前処理で紹介した *Min-max normalization* を使ってみましょう。 `sklearn.preprocessing.MinMaxScaler()` を利用します。\n",
        "\n",
        "参考：https://scikit-learn.org/stable/modules/generated/sklearn.preprocessing.MinMaxScaler.html"
      ]
    },
    {
      "cell_type": "code",
      "execution_count": 6,
      "metadata": {
        "id": "tnwfd2rXavgi"
      },
      "outputs": [],
      "source": [
        "# MinMaxScalerで正規化を実施し、その結果を変数tempに格納する\n",
        "scaler = MinMaxScaler()\n",
        "temp = scaler.fit_transform(dataset)"
      ]
    },
    {
      "cell_type": "code",
      "execution_count": 8,
      "metadata": {
        "id": "7VNjJBZ1a_q_"
      },
      "outputs": [
        {
          "data": {
            "text/plain": [
              "array([[0.616     , 0.87619048],\n",
              "       [0.542     , 0.53333333],\n",
              "       [0.58      , 0.57142857],\n",
              "       [0.53      , 0.74285714],\n",
              "       [0.584     , 0.45714286]])"
            ]
          },
          "execution_count": 8,
          "metadata": {},
          "output_type": "execute_result"
        }
      ],
      "source": [
        "# 正規化後のデータの先頭の5行を表示\n",
        "temp[:5]"
      ]
    },
    {
      "cell_type": "code",
      "execution_count": 9,
      "metadata": {
        "id": "17H1z4EebEnv"
      },
      "outputs": [],
      "source": [
        "# tempの0列目を「batting_scaled」、1列目を「points_scaled」という列名にして、datasetへ列として追加\n",
        "dataset['batting_scaled'] = temp[:, 0]\n",
        "dataset['points_scaled'] = temp[:, 1]"
      ]
    },
    {
      "cell_type": "code",
      "execution_count": 10,
      "metadata": {
        "id": "3UuiQ8KEbSU5"
      },
      "outputs": [
        {
          "data": {
            "text/html": [
              "<div>\n",
              "<style scoped>\n",
              "    .dataframe tbody tr th:only-of-type {\n",
              "        vertical-align: middle;\n",
              "    }\n",
              "\n",
              "    .dataframe tbody tr th {\n",
              "        vertical-align: top;\n",
              "    }\n",
              "\n",
              "    .dataframe thead th {\n",
              "        text-align: right;\n",
              "    }\n",
              "</style>\n",
              "<table border=\"1\" class=\"dataframe\">\n",
              "  <thead>\n",
              "    <tr style=\"text-align: right;\">\n",
              "      <th></th>\n",
              "      <th>batting</th>\n",
              "      <th>points</th>\n",
              "      <th>batting_scaled</th>\n",
              "      <th>points_scaled</th>\n",
              "    </tr>\n",
              "  </thead>\n",
              "  <tbody>\n",
              "    <tr>\n",
              "      <th>0</th>\n",
              "      <td>0.308</td>\n",
              "      <td>92</td>\n",
              "      <td>0.616</td>\n",
              "      <td>0.876190</td>\n",
              "    </tr>\n",
              "    <tr>\n",
              "      <th>1</th>\n",
              "      <td>0.271</td>\n",
              "      <td>56</td>\n",
              "      <td>0.542</td>\n",
              "      <td>0.533333</td>\n",
              "    </tr>\n",
              "    <tr>\n",
              "      <th>2</th>\n",
              "      <td>0.290</td>\n",
              "      <td>60</td>\n",
              "      <td>0.580</td>\n",
              "      <td>0.571429</td>\n",
              "    </tr>\n",
              "    <tr>\n",
              "      <th>3</th>\n",
              "      <td>0.265</td>\n",
              "      <td>78</td>\n",
              "      <td>0.530</td>\n",
              "      <td>0.742857</td>\n",
              "    </tr>\n",
              "    <tr>\n",
              "      <th>4</th>\n",
              "      <td>0.292</td>\n",
              "      <td>48</td>\n",
              "      <td>0.584</td>\n",
              "      <td>0.457143</td>\n",
              "    </tr>\n",
              "  </tbody>\n",
              "</table>\n",
              "</div>"
            ],
            "text/plain": [
              "   batting  points  batting_scaled  points_scaled\n",
              "0    0.308      92           0.616       0.876190\n",
              "1    0.271      56           0.542       0.533333\n",
              "2    0.290      60           0.580       0.571429\n",
              "3    0.265      78           0.530       0.742857\n",
              "4    0.292      48           0.584       0.457143"
            ]
          },
          "execution_count": 10,
          "metadata": {},
          "output_type": "execute_result"
        }
      ],
      "source": [
        "# 改めてdatasetの先頭の5行を表示\n",
        "dataset.head()"
      ]
    },
    {
      "cell_type": "markdown",
      "metadata": {
        "id": "SzZ6MSeIbZTq"
      },
      "source": [
        "## 4. データの可視化"
      ]
    },
    {
      "cell_type": "code",
      "execution_count": 11,
      "metadata": {
        "id": "nbNS1bEebYqa"
      },
      "outputs": [
        {
          "data": {
            "text/plain": [
              "<Axes: xlabel='batting_scaled', ylabel='points_scaled'>"
            ]
          },
          "execution_count": 11,
          "metadata": {},
          "output_type": "execute_result"
        },
        {
          "data": {
            "image/png": "[encoded data removed]",
            "text/plain": [
              "<Figure size 640x480 with 1 Axes>"
            ]
          },
          "metadata": {},
          "output_type": "display_data"
        }
      ],
      "source": [
        "# 正規化後の打率と打点の散布図を描画する\n",
        "sns.scatterplot(data=dataset, x='batting_scaled', y='points_scaled')"
      ]
    },
    {
      "cell_type": "markdown",
      "metadata": {
        "id": "rgPv6tmgeLvr"
      },
      "source": [
        "## 5. クラスター数の決定\n",
        "\n",
        "エルボーメソッドとシルエットプロットを使用してクラスター数を決定しましょう"
      ]
    },
    {
      "cell_type": "markdown",
      "metadata": {
        "id": "tVGiH6FseO3Q"
      },
      "source": [
        "### クラスタリングを行なうデータの抽出"
      ]
    },
    {
      "cell_type": "code",
      "execution_count": 12,
      "metadata": {
        "id": "9simaUlUeMsL"
      },
      "outputs": [
        {
          "data": {
            "text/plain": [
              "(241, 2)"
            ]
          },
          "execution_count": 12,
          "metadata": {},
          "output_type": "execute_result"
        }
      ],
      "source": [
        "# datasetからbatting_scaledとpoints_scaledを取り出して、numpy配列に変換してXに格納する\n",
        "X = dataset[['batting_scaled', 'points_scaled']].values\n",
        "\n",
        "# Xの形状を確認\n",
        "X.shape\n"
      ]
    },
    {
      "cell_type": "markdown",
      "metadata": {
        "id": "V0WAt4jJecWl"
      },
      "source": [
        "### エルボーメソッド"
      ]
    },
    {
      "cell_type": "code",
      "execution_count": 13,
      "metadata": {
        "id": "BN41wtsMebRt"
      },
      "outputs": [],
      "source": [
        "# 最大クラスター数を10として、クラスター数1から10までのWCSS値を算出（変更しないでください）\n",
        "wcss = []\n",
        "c_list = np.arange(1, 11)"
      ]
    },
    {
      "cell_type": "code",
      "execution_count": 14,
      "metadata": {
        "id": "EImsjeWierQC"
      },
      "outputs": [],
      "source": [
        "# クラスタ数の算出\n",
        "for c in c_list:\n",
        "    kmeans_model = KMeans(n_clusters=c, init='k-means++', n_init=10)\n",
        "    kmeans_model.fit(X)\n",
        "    wcss.append(kmeans_model.inertia_)"
      ]
    },
    {
      "cell_type": "code",
      "execution_count": 15,
      "metadata": {
        "id": "x-JaKUXre025"
      },
      "outputs": [
        {
          "data": {
            "text/plain": [
              "[19.166235457325392,\n",
              " 7.410516705251339,\n",
              " 5.19035543662267,\n",
              " 3.6886547855136658,\n",
              " 2.5955323271130872,\n",
              " 1.9268274442509379,\n",
              " 1.6665716141685203,\n",
              " 1.4172225097291382,\n",
              " 1.2295668156432804,\n",
              " 1.1111170651706719]"
            ]
          },
          "execution_count": 15,
          "metadata": {},
          "output_type": "execute_result"
        }
      ],
      "source": [
        "# WCSSの表示（変更しないでください）\n",
        "wcss"
      ]
    },
    {
      "cell_type": "code",
      "execution_count": 16,
      "metadata": {
        "id": "IQ5MGM6be8zQ"
      },
      "outputs": [
        {
          "data": {
            "text/plain": [
              "<Axes: >"
            ]
          },
          "execution_count": 16,
          "metadata": {},
          "output_type": "execute_result"
        },
        {
          "data": {
            "image/png": "[encoded data removed]",
            "text/plain": [
              "<Figure size 640x480 with 1 Axes>"
            ]
          },
          "metadata": {},
          "output_type": "display_data"
        }
      ],
      "source": [
        "# エルボーメソッドのグラフの表示\n",
        "sns.lineplot(x=c_list, y=wcss)"
      ]
    },
    {
      "cell_type": "markdown",
      "metadata": {
        "id": "xqGHVBvrfJs8"
      },
      "source": [
        "### シルエットプロット"
      ]
    },
    {
      "cell_type": "code",
      "execution_count": 17,
      "metadata": {
        "id": "0CxGvARkfJRC"
      },
      "outputs": [],
      "source": [
        "# クラスタ数を6に指定（変更しないでください）\n",
        "cluster_no = 6"
      ]
    },
    {
      "cell_type": "code",
      "execution_count": 18,
      "metadata": {
        "id": "g7urFyVkfNm0"
      },
      "outputs": [],
      "source": [
        "# クラスタリングのモデルを作成し、学習して、クラスタ番号を取得\n",
        "kmeans_model = KMeans(n_clusters=cluster_no, init='k-means++', n_init=10)\n",
        "Y_pred = kmeans_model.fit_predict(X)"
      ]
    },
    {
      "cell_type": "code",
      "execution_count": 19,
      "metadata": {
        "id": "yAyhBx_yupbC"
      },
      "outputs": [
        {
          "name": "stderr",
          "output_type": "stream",
          "text": [
            "/Users/hfukumor/src/github.com/hfukumori/aidev/.venv/lib/python3.12/site-packages/sklearn/utils/extmath.py:203: RuntimeWarning: divide by zero encountered in matmul\n",
            "  ret = a @ b\n",
            "/Users/hfukumor/src/github.com/hfukumori/aidev/.venv/lib/python3.12/site-packages/sklearn/utils/extmath.py:203: RuntimeWarning: overflow encountered in matmul\n",
            "  ret = a @ b\n",
            "/Users/hfukumor/src/github.com/hfukumori/aidev/.venv/lib/python3.12/site-packages/sklearn/utils/extmath.py:203: RuntimeWarning: invalid value encountered in matmul\n",
            "  ret = a @ b\n",
            "/Users/hfukumor/src/github.com/hfukumori/aidev/.venv/lib/python3.12/site-packages/sklearn/utils/extmath.py:203: RuntimeWarning: divide by zero encountered in matmul\n",
            "  ret = a @ b\n",
            "/Users/hfukumor/src/github.com/hfukumori/aidev/.venv/lib/python3.12/site-packages/sklearn/utils/extmath.py:203: RuntimeWarning: overflow encountered in matmul\n",
            "  ret = a @ b\n",
            "/Users/hfukumor/src/github.com/hfukumori/aidev/.venv/lib/python3.12/site-packages/sklearn/utils/extmath.py:203: RuntimeWarning: invalid value encountered in matmul\n",
            "  ret = a @ b\n"
          ]
        }
      ],
      "source": [
        "# シルエットスコアの平均値\n",
        "s_average = silhouette_score(X, Y_pred)\n",
        "\n",
        "# 各データのシルエットスコア\n",
        "s_score = silhouette_samples(X, Y_pred, metric='euclidean')"
      ]
    },
    {
      "cell_type": "code",
      "execution_count": 20,
      "metadata": {
        "id": "pPEMpbZDuxCS"
      },
      "outputs": [
        {
          "data": {
            "text/plain": [
              "[<matplotlib.axis.XTick at 0x16c0e7170>,\n",
              " <matplotlib.axis.XTick at 0x16b512630>,\n",
              " <matplotlib.axis.XTick at 0x16b4f5c40>,\n",
              " <matplotlib.axis.XTick at 0x16c14c320>,\n",
              " <matplotlib.axis.XTick at 0x16c170ce0>,\n",
              " <matplotlib.axis.XTick at 0x16c171730>,\n",
              " <matplotlib.axis.XTick at 0x16c1721b0>]"
            ]
          },
          "execution_count": 20,
          "metadata": {},
          "output_type": "execute_result"
        },
        {
          "data": {
            "image/png": "[encoded data removed]",
            "text/plain": [
              "<Figure size 640x480 with 1 Axes>"
            ]
          },
          "metadata": {},
          "output_type": "display_data"
        }
      ],
      "source": [
        "# シルエットプロットを描画\n",
        "# 参考： https://scikit-learn.org/stable/auto_examples/cluster/plot_kmeans_silhouette_analysis.html\n",
        "fig = plt.figure()\n",
        "ax1 = fig.add_subplot(1, 1, 1)\n",
        "y_lower = 0\n",
        "\n",
        "for i in range(cluster_no):\n",
        "    # Aggregate the silhouette scores for samples belonging to\n",
        "    # cluster i, and sort them\n",
        "    ith_cluster_silhouette_values = s_score[Y_pred == i]\n",
        "    ith_cluster_silhouette_values.sort()\n",
        "\n",
        "    size_cluster_i = ith_cluster_silhouette_values.shape[0]\n",
        "    y_upper = y_lower + size_cluster_i\n",
        "\n",
        "    #color = cm.nipy_spectral(float(i) / n_clusters)\n",
        "    ax1.fill_betweenx(np.arange(y_lower, y_upper),\n",
        "                      0, ith_cluster_silhouette_values)\n",
        "\n",
        "    # Label the silhouette plots with their cluster numbers at the middle\n",
        "    ax1.text(-0.05, y_lower + 0.5 * size_cluster_i, str(i))\n",
        "\n",
        "    # Compute the new y_lower for next plot\n",
        "    y_lower = y_upper + 10  # 10 for the 0 samples\n",
        "\n",
        "ax1.set_title(\"The silhouette plot for the various clusters.\")\n",
        "ax1.set_xlabel(\"The silhouette coefficient values\")\n",
        "ax1.set_ylabel(\"Cluster label\")\n",
        "\n",
        "# The vertical line for average silhouette score of all the values\n",
        "ax1.axvline(x=s_average, color=\"red\", linestyle=\"--\")\n",
        "\n",
        "ax1.set_yticks([])  # Clear the yaxis labels / ticks\n",
        "ax1.set_xticks([-0.1, 0, 0.2, 0.4, 0.6, 0.8, 1])"
      ]
    },
    {
      "cell_type": "markdown",
      "metadata": {
        "id": "W7xBUAy5vJcf"
      },
      "source": [
        "## 6. 結果の確認\n",
        "\n",
        "上記の結果をもとに、クラスタ数6で再度クラスタリングを実行し、分類ごとに色を分けて散布図にプロットしましょう。"
      ]
    },
    {
      "cell_type": "code",
      "execution_count": 21,
      "metadata": {
        "id": "iqKt5ni6vE99"
      },
      "outputs": [],
      "source": [
        "# クラスタ数を6に指定（変更しないでください）\n",
        "cluster_no = 6\n",
        "\n",
        "# クラスタリングのモデルを作成し、学習して、クラスタ番号を取得\n",
        "kmeans_model = KMeans(n_clusters=cluster_no, init='k-means++', n_init=10)\n",
        "Y_pred = kmeans_model.fit_predict(X)"
      ]
    },
    {
      "cell_type": "code",
      "execution_count": 25,
      "metadata": {
        "id": "cY7pOOjSvIAp"
      },
      "outputs": [
        {
          "data": {
            "text/plain": [
              "<seaborn.axisgrid.FacetGrid at 0x16c17d850>"
            ]
          },
          "execution_count": 25,
          "metadata": {},
          "output_type": "execute_result"
        },
        {
          "data": {
            "image/png": "[encoded data removed]",
            "text/plain": [
              "<Figure size 563.5x500 with 1 Axes>"
            ]
          },
          "metadata": {},
          "output_type": "display_data"
        }
      ],
      "source": [
        "# k-means法によるクラスタリングの結果を描画\n",
        "temp = dataset[['batting_scaled', 'points_scaled']].copy()\n",
        "temp['cluster'] = Y_pred\n",
        "sns.lmplot(x='batting_scaled', y='points_scaled', data=temp, hue='cluster', fit_reg=False)"
      ]
    }
  ],
  "metadata": {
    "colab": {
      "provenance": []
    },
    "kernelspec": {
      "display_name": ".venv",
      "language": "python",
      "name": "python3"
    },
    "language_info": {
      "codemirror_mode": {
        "name": "ipython",
        "version": 3
      },
      "file_extension": ".py",
      "mimetype": "text/x-python",
      "name": "python",
      "nbconvert_exporter": "python",
      "pygments_lexer": "ipython3",
      "version": "3.12.11"
    }
  },
  "nbformat": 4,
  "nbformat_minor": 0
}
